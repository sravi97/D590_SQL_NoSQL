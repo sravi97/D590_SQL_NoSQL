{
 "cells": [
  {
   "cell_type": "markdown",
   "metadata": {},
   "source": [
    "# Week 1 Practice"
   ]
  },
  {
   "cell_type": "markdown",
   "metadata": {},
   "source": [
    "You will need:\n",
    "- Chapter 1 (SQL Cook Book). In this notebook you will be practicing the code provided in the chapter.\n",
    "- Download emp.csv and dept.csv from the canvas Week 1 Practice\n",
    "\n",
    "************\n",
    "- Step 1-4: You will create a database week1.db\n",
    "- Step 5: Practice Chapter 1 code\n",
    "- Step 6: Close db connection\n",
    "- Step 7: Open db connection using week1.db (you do not need step1-4 aanymore)"
   ]
  },
  {
   "cell_type": "code",
   "execution_count": 1,
   "metadata": {},
   "outputs": [],
   "source": [
    "import sqlite3\n",
    "import pandas as pd"
   ]
  },
  {
   "cell_type": "markdown",
   "metadata": {},
   "source": [
    "STEP 1. Create a database named week1. You shsold have a new file week1.db in your local directory."
   ]
  },
  {
   "cell_type": "code",
   "execution_count": 2,
   "metadata": {},
   "outputs": [],
   "source": [
    "conn = sqlite3.connect('week1.db')  \n",
    "c = conn.cursor()"
   ]
  },
  {
   "cell_type": "markdown",
   "metadata": {},
   "source": [
    "STEP 2. Read emp.csv and create a table emp"
   ]
  },
  {
   "cell_type": "code",
   "execution_count": 3,
   "metadata": {},
   "outputs": [],
   "source": [
    "read_emp = pd.read_csv(r'emp.csv')\n",
    "read_emp.to_sql('emp', conn, if_exists='append', index = False) # Insert the values from the csv file into the table 'emp' "
   ]
  },
  {
   "cell_type": "markdown",
   "metadata": {},
   "source": [
    "STEP 3. read dept.csv and create a table dept"
   ]
  },
  {
   "cell_type": "code",
   "execution_count": 4,
   "metadata": {},
   "outputs": [],
   "source": [
    "read_dept = pd.read_csv(r'dept.csv')\n",
    "read_dept.to_sql('dept', conn, if_exists='append', index = False) # Insert the values from the csv file into the table 'dept' "
   ]
  },
  {
   "cell_type": "markdown",
   "metadata": {},
   "source": [
    "Execution Examples"
   ]
  },
  {
   "cell_type": "markdown",
   "metadata": {},
   "source": [
    "SQL statements will be executed with \n",
    "\n",
    "c.execute('''\n",
    "SQL code\n",
    "''')"
   ]
  },
  {
   "cell_type": "code",
   "execution_count": 6,
   "metadata": {},
   "outputs": [
    {
     "name": "stdout",
     "output_type": "stream",
     "text": [
      "(7369, 'SMITH', 'CLERK', 7902.0, '17-Dec-05', 800, None, 20)\n",
      "(7499, 'ALLEN', 'SALESMAN', 7698.0, '20-Feb-06', 1600, 300.0, 30)\n",
      "(7521, 'WARD', 'SALESMAN', 7698.0, '22-Feb-06', 1250, 500.0, 30)\n",
      "(7566, 'JONES', 'MANAGER', 7839.0, '2-Apr-06', 2975, None, 20)\n",
      "(7654, 'MARTIN', 'SALESMAN', 7698.0, '28-Sep-06', 1250, 1400.0, 30)\n",
      "(7698, 'BLAKE', 'MANAGER', 7839.0, '1-May-06', 2850, None, 30)\n",
      "(7782, 'CLARK', 'MANAGER', 7839.0, '9-Jun-06', 2450, None, 10)\n",
      "(7788, 'SCOTT', 'ANALYST', 7566.0, '9-Dec-07', 3000, None, 20)\n",
      "(7839, 'KING', 'PRESIDENT', None, '17-Nov-06', 5000, None, 10)\n",
      "(7844, 'TURNER', 'SALESMAN', 7698.0, '8-Sep-06', 1500, 0.0, 30)\n",
      "(7876, 'ADAMS', 'CLERK', 7788.0, '12-Jan-08', 1100, None, 20)\n",
      "(7900, 'JAMES', 'CLERK', 7698.0, '3-Dec-06', 950, None, 30)\n",
      "(7902, 'FORD', 'ANALYST', 7566.0, '3-Dec-06', 3000, None, 20)\n",
      "(7934, 'MILLER', 'CLERK', 7782.0, '23-Jan-07', 1300, None, 10)\n",
      "(7369, 'SMITH', 'CLERK', 7902.0, '17-Dec-05', 800, None, 20)\n",
      "(7499, 'ALLEN', 'SALESMAN', 7698.0, '20-Feb-06', 1600, 300.0, 30)\n",
      "(7521, 'WARD', 'SALESMAN', 7698.0, '22-Feb-06', 1250, 500.0, 30)\n",
      "(7566, 'JONES', 'MANAGER', 7839.0, '2-Apr-06', 2975, None, 20)\n",
      "(7654, 'MARTIN', 'SALESMAN', 7698.0, '28-Sep-06', 1250, 1400.0, 30)\n",
      "(7698, 'BLAKE', 'MANAGER', 7839.0, '1-May-06', 2850, None, 30)\n",
      "(7782, 'CLARK', 'MANAGER', 7839.0, '9-Jun-06', 2450, None, 10)\n",
      "(7788, 'SCOTT', 'ANALYST', 7566.0, '9-Dec-07', 3000, None, 20)\n",
      "(7839, 'KING', 'PRESIDENT', None, '17-Nov-06', 5000, None, 10)\n",
      "(7844, 'TURNER', 'SALESMAN', 7698.0, '8-Sep-06', 1500, 0.0, 30)\n",
      "(7876, 'ADAMS', 'CLERK', 7788.0, '12-Jan-08', 1100, None, 20)\n",
      "(7900, 'JAMES', 'CLERK', 7698.0, '3-Dec-06', 950, None, 30)\n",
      "(7902, 'FORD', 'ANALYST', 7566.0, '3-Dec-06', 3000, None, 20)\n",
      "(7934, 'MILLER', 'CLERK', 7782.0, '23-Jan-07', 1300, None, 10)\n"
     ]
    }
   ],
   "source": [
    "#Example 1\n",
    "for row in c.execute('''\n",
    "select * from emp\n",
    "'''):\n",
    "    print(row)"
   ]
  },
  {
   "cell_type": "code",
   "execution_count": 7,
   "metadata": {},
   "outputs": [
    {
     "name": "stdout",
     "output_type": "stream",
     "text": [
      "EMPNO\n",
      "ENAME\n",
      "JOB\n",
      "MGR\n",
      "HIREDATE\n",
      "SAL\n",
      "COMM\n",
      "DEPTNO\n"
     ]
    }
   ],
   "source": [
    "colnames = c.description\n",
    "for row in colnames:\n",
    "    print(row[0])"
   ]
  },
  {
   "cell_type": "markdown",
   "metadata": {},
   "source": [
    "To print a table, use fetchall() to collect data and add column names thaht you have selected."
   ]
  },
  {
   "cell_type": "code",
   "execution_count": 24,
   "metadata": {},
   "outputs": [
    {
     "name": "stdout",
     "output_type": "stream",
     "text": [
      "    EMPNO   ENAME        JOB     MGR   HIREDATE   SAL    COMM  DEPTNO\n",
      "0    7369   SMITH      CLERK  7902.0  17-Dec-05   800     NaN      20\n",
      "1    7499   ALLEN   SALESMAN  7698.0  20-Feb-06  1600   300.0      30\n",
      "2    7521    WARD   SALESMAN  7698.0  22-Feb-06  1250   500.0      30\n",
      "3    7566   JONES    MANAGER  7839.0   2-Apr-06  2975     NaN      20\n",
      "4    7654  MARTIN   SALESMAN  7698.0  28-Sep-06  1250  1400.0      30\n",
      "5    7698   BLAKE    MANAGER  7839.0   1-May-06  2850     NaN      30\n",
      "6    7782   CLARK    MANAGER  7839.0   9-Jun-06  2450     NaN      10\n",
      "7    7788   SCOTT    ANALYST  7566.0   9-Dec-07  3000     NaN      20\n",
      "8    7839    KING  PRESIDENT     NaN  17-Nov-06  5000     NaN      10\n",
      "9    7844  TURNER   SALESMAN  7698.0   8-Sep-06  1500     0.0      30\n",
      "10   7876   ADAMS      CLERK  7788.0  12-Jan-08  1100     NaN      20\n",
      "11   7900   JAMES      CLERK  7698.0   3-Dec-06   950     NaN      30\n",
      "12   7902    FORD    ANALYST  7566.0   3-Dec-06  3000     NaN      20\n",
      "13   7934  MILLER      CLERK  7782.0  23-Jan-07  1300     NaN      10\n"
     ]
    }
   ],
   "source": [
    "# Example 2\n",
    "c.execute('''\n",
    "select * from emp\n",
    "''')\n",
    "\n",
    "df = pd.DataFrame(c.fetchall(), columns=['EMPNO',\n",
    "'ENAME',\n",
    "'JOB',\n",
    "'MGR',\n",
    "'HIREDATE',\n",
    "'SAL',\n",
    "'COMM',\n",
    "'DEPTNO'])\n",
    "print(df)"
   ]
  },
  {
   "cell_type": "markdown",
   "metadata": {},
   "source": [
    "### Basics of SQL Queries  \n",
    "\n",
    "**SELECT**: Statement used to select rows and columns from a database. \n",
    "\n",
    "**FROM**:  Specifies which table in the database you want to direct your query to.\n",
    "\n",
    "**WHERE**: Clause for filtering for specified value(s).\n",
    "\n",
    "**GROUP BY**: Aggregating data. Needs to be used in conjunction with SQL aggregating functions like `SUM` and `COUNT`.\n",
    "\n",
    "**ORDER BY**: Sorting columns in the database. \n",
    "\n",
    "**JOIN**: Joins are used to combine tables with one another. \n",
    "\n",
    "**UNION**, **INTERSECT/EXCEPT**: Set operations. Unioning in SQL allows one to append tables on top of one another. "
   ]
  },
  {
   "cell_type": "markdown",
   "metadata": {},
   "source": [
    "### Step 5. Practice Chapter 1"
   ]
  },
  {
   "cell_type": "code",
   "execution_count": 26,
   "metadata": {},
   "outputs": [],
   "source": [
    "## Your turn"
   ]
  },
  {
   "cell_type": "markdown",
   "metadata": {},
   "source": [
    "### Step 6. Close the connection"
   ]
  },
  {
   "cell_type": "code",
   "execution_count": 18,
   "metadata": {},
   "outputs": [],
   "source": [
    "conn.close()"
   ]
  },
  {
   "cell_type": "markdown",
   "metadata": {},
   "source": [
    "### Step 7. Open connection with your database week1.db"
   ]
  },
  {
   "cell_type": "code",
   "execution_count": 23,
   "metadata": {},
   "outputs": [],
   "source": [
    "conn = sqlite3.connect('week1.db')\n",
    "c = conn.cursor()"
   ]
  },
  {
   "cell_type": "code",
   "execution_count": 25,
   "metadata": {},
   "outputs": [],
   "source": [
    "## You can continue working with SQL coding now"
   ]
  },
  {
   "cell_type": "code",
   "execution_count": null,
   "metadata": {},
   "outputs": [],
   "source": []
  }
 ],
 "metadata": {
  "kernelspec": {
   "display_name": "Python 3",
   "language": "python",
   "name": "python3"
  },
  "language_info": {
   "codemirror_mode": {
    "name": "ipython",
    "version": 3
   },
   "file_extension": ".py",
   "mimetype": "text/x-python",
   "name": "python",
   "nbconvert_exporter": "python",
   "pygments_lexer": "ipython3",
   "version": "3.7.1"
  }
 },
 "nbformat": 4,
 "nbformat_minor": 4
}
